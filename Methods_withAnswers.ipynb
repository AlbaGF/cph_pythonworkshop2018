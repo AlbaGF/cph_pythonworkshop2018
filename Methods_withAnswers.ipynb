{
 "cells": [
  {
   "cell_type": "markdown",
   "metadata": {},
   "source": [
    "# Python Built-In Type Methods\n",
    "\n",
    "As we discussed in the lecture, all Python objects are **Objects**, which means they have **Properties/Attributes** (data) and **Methods** associated with them.  These are accessible via the **Dot Notation**. \n",
    "\n",
    "For example, here we use a **string** **Class**'s *title()* method:"
   ]
  },
  {
   "cell_type": "code",
   "execution_count": 4,
   "metadata": {},
   "outputs": [
    {
     "data": {
      "text/plain": [
       "'The Lion King'"
      ]
     },
     "execution_count": 4,
     "metadata": {},
     "output_type": "execute_result"
    }
   ],
   "source": [
    "film = 'the lion king'\n",
    "bigfilm = film.title()\n",
    "bigfilm"
   ]
  },
  {
   "cell_type": "code",
   "execution_count": null,
   "metadata": {},
   "outputs": [],
   "source": []
  },
  {
   "cell_type": "markdown",
   "metadata": {},
   "source": [
    "## Quick Exercises"
   ]
  },
  {
   "cell_type": "markdown",
   "metadata": {},
   "source": [
    "### Strings\n",
    "\n",
    "Strings represent text data.  They can be appended with the **\\*** and **\\+** operators, and they contain many useful methods for modifying and formatting them:"
   ]
  },
  {
   "cell_type": "code",
   "execution_count": 15,
   "metadata": {},
   "outputs": [
    {
     "name": "stdout",
     "output_type": "stream",
     "text": [
      "['capitalize', 'casefold', 'center', 'count', 'encode', 'endswith', 'expandtabs', 'find', 'format', 'index', 'isalnum', 'isalpha', 'isdecimal', 'isdigit', 'isidentifier', 'islower', 'isnumeric', 'isprintable', 'isspace', 'istitle', 'isupper', 'join', 'ljust', 'lower', 'lstrip', 'maketrans', 'partition', 'replace', 'rfind', 'rindex', 'rjust', 'rpartition', 'rsplit', 'rstrip', 'split', 'splitlines', 'startswith', 'strip', 'swapcase', 'title', 'translate', 'upper', 'zfill']\n"
     ]
    }
   ],
   "source": [
    "print([method for method in dir(str) if not '_' in method])"
   ]
  },
  {
   "cell_type": "code",
   "execution_count": null,
   "metadata": {},
   "outputs": [],
   "source": []
  },
  {
   "cell_type": "markdown",
   "metadata": {},
   "source": [
    "### Changing Strings\n",
    "\n",
    "Use the **strip**, **swapcase**, **title**, **lower**, **upper**, and **zfill** methods, or the **\\+** or **\\*** operators, to perform the following modifications:"
   ]
  },
  {
   "cell_type": "markdown",
   "metadata": {},
   "source": [
    "**I am angry** -> **I AM ANGRY**"
   ]
  },
  {
   "cell_type": "code",
   "execution_count": 2,
   "metadata": {},
   "outputs": [
    {
     "data": {
      "text/plain": [
       "'I AM ANGRY'"
      ]
     },
     "execution_count": 2,
     "metadata": {},
     "output_type": "execute_result"
    }
   ],
   "source": [
    "quote = 'I am angry'\n",
    "quote.upper()"
   ]
  },
  {
   "cell_type": "code",
   "execution_count": 4,
   "metadata": {},
   "outputs": [
    {
     "data": {
      "text/plain": [
       "'I AM ANGRY'"
      ]
     },
     "execution_count": 4,
     "metadata": {},
     "output_type": "execute_result"
    }
   ],
   "source": [
    "'I am angry'.upper()"
   ]
  },
  {
   "cell_type": "markdown",
   "metadata": {},
   "source": [
    "**the lion king** -> **The Lion King**"
   ]
  },
  {
   "cell_type": "code",
   "execution_count": 6,
   "metadata": {},
   "outputs": [
    {
     "data": {
      "text/plain": [
       "'The Lion King'"
      ]
     },
     "execution_count": 6,
     "metadata": {},
     "output_type": "execute_result"
    }
   ],
   "source": [
    "film = 'the lion king'\n",
    "film.title()"
   ]
  },
  {
   "cell_type": "markdown",
   "metadata": {},
   "source": [
    "**three** -> **threethreethree**"
   ]
  },
  {
   "cell_type": "code",
   "execution_count": 8,
   "metadata": {},
   "outputs": [
    {
     "data": {
      "text/plain": [
       "'threethreethree'"
      ]
     },
     "execution_count": 8,
     "metadata": {},
     "output_type": "execute_result"
    }
   ],
   "source": [
    "'three' * 3"
   ]
  },
  {
   "cell_type": "code",
   "execution_count": 9,
   "metadata": {},
   "outputs": [
    {
     "data": {
      "text/plain": [
       "6"
      ]
     },
     "execution_count": 9,
     "metadata": {},
     "output_type": "execute_result"
    }
   ],
   "source": [
    "2 * 3"
   ]
  },
  {
   "cell_type": "markdown",
   "metadata": {},
   "source": [
    "**He said, \"Are you okay?\"** -> **hE SAID, \"aRE YOU OKAY?\"**"
   ]
  },
  {
   "cell_type": "code",
   "execution_count": 12,
   "metadata": {},
   "outputs": [
    {
     "data": {
      "text/plain": [
       "'aRE YOU OKAY?'"
      ]
     },
     "execution_count": 12,
     "metadata": {},
     "output_type": "execute_result"
    }
   ],
   "source": [
    "output = 'Are you okay?'.swapcase()\n",
    "output"
   ]
  },
  {
   "cell_type": "markdown",
   "metadata": {},
   "source": [
    "### Searching Substrings\n",
    "\n",
    "Use the **replace**, **count**, and **index** methods to search for a substring and answer the following questions using the example sentence below:\n",
    "\n",
    "```python\n",
    "sentence = \"The dog ate my watermelon when we were digging at the beach!\"\n",
    "```"
   ]
  },
  {
   "cell_type": "code",
   "execution_count": 13,
   "metadata": {},
   "outputs": [],
   "source": [
    "sentence = \"The dog ate my watermelon when we were digging at the beach!\""
   ]
  },
  {
   "cell_type": "markdown",
   "metadata": {},
   "source": [
    "How many \"w\" characters are in this sentence?"
   ]
  },
  {
   "cell_type": "code",
   "execution_count": 19,
   "metadata": {},
   "outputs": [
    {
     "data": {
      "text/plain": [
       "4"
      ]
     },
     "execution_count": 19,
     "metadata": {},
     "output_type": "execute_result"
    }
   ],
   "source": [
    "sentence.count(\"w\")"
   ]
  },
  {
   "cell_type": "code",
   "execution_count": 15,
   "metadata": {},
   "outputs": [],
   "source": [
    "sentence.count?"
   ]
  },
  {
   "cell_type": "markdown",
   "metadata": {},
   "source": [
    "What character index does the word \"watermelon\" start on? (the first? The tenth?)"
   ]
  },
  {
   "cell_type": "code",
   "execution_count": 18,
   "metadata": {},
   "outputs": [
    {
     "data": {
      "text/plain": [
       "0"
      ]
     },
     "execution_count": 18,
     "metadata": {},
     "output_type": "execute_result"
    }
   ],
   "source": [
    "sentence.index(\"The\")"
   ]
  },
  {
   "cell_type": "markdown",
   "metadata": {},
   "source": [
    "Replace the word \"dog\" in the sentence with the word \"cat\""
   ]
  },
  {
   "cell_type": "code",
   "execution_count": 21,
   "metadata": {},
   "outputs": [
    {
     "data": {
      "text/plain": [
       "'The cat ate my watermelon when we were digging at the beach!'"
      ]
     },
     "execution_count": 21,
     "metadata": {},
     "output_type": "execute_result"
    }
   ],
   "source": [
    "sentence.replace('dog', 'cat')"
   ]
  },
  {
   "cell_type": "markdown",
   "metadata": {},
   "source": [
    "### Formatting Strings\n",
    "\n",
    "The most common method used for strings is the **format()** methods, so it deserves special mention.  It is used to insert data into a string.  It is similar to the **replace()** method but only replaces curly braces **{}**, but it is *way* more powerful.  In fact, there is a whole web page dedicated to showing all the ways you can use it: https://pyformat.info/\n",
    "\n",
    "```python\n",
    "label_fmt = \"Sample {}: Vial {}\"\n",
    "label_fmt.format(3, 4)\n",
    ">> \"Sample 3: Vial 4\"\n",
    "```"
   ]
  },
  {
   "cell_type": "markdown",
   "metadata": {},
   "source": [
    "Using the **format()** method, make the following three sentences:\n",
    "\n",
    "**I bought 3 dogs.**\n",
    "\n",
    "**Wendy bought 5 dogs.**\n",
    "\n",
    "**George bought 700 dogs.**"
   ]
  },
  {
   "cell_type": "code",
   "execution_count": 34,
   "metadata": {},
   "outputs": [
    {
     "data": {
      "text/plain": [
       "'Wendy bought 1000 dogs'"
      ]
     },
     "execution_count": 34,
     "metadata": {},
     "output_type": "execute_result"
    }
   ],
   "source": [
    "fmt_str = '{} bought {} dogs'\n",
    "fmt_str.format('Wendy', 1000)"
   ]
  },
  {
   "cell_type": "code",
   "execution_count": 31,
   "metadata": {},
   "outputs": [
    {
     "data": {
      "text/plain": [
       "'Wendy bought 1000 dogs'"
      ]
     },
     "execution_count": 31,
     "metadata": {},
     "output_type": "execute_result"
    }
   ],
   "source": [
    "'Wendy' + ' bought ' + str(1000) + ' dogs'"
   ]
  },
  {
   "cell_type": "code",
   "execution_count": 32,
   "metadata": {},
   "outputs": [
    {
     "data": {
      "text/plain": [
       "'Wendy bought 1000 dogs'"
      ]
     },
     "execution_count": 32,
     "metadata": {},
     "output_type": "execute_result"
    }
   ],
   "source": [
    "'Wendy' + ' bought ' + '1000' + ' dogs'"
   ]
  },
  {
   "cell_type": "code",
   "execution_count": 39,
   "metadata": {},
   "outputs": [
    {
     "data": {
      "text/plain": [
       "'Nick bought -2 dogs'"
      ]
     },
     "execution_count": 39,
     "metadata": {},
     "output_type": "execute_result"
    }
   ],
   "source": [
    "fmt_str = '{name} bought {num} dogs'\n",
    "fmt_str.format(num=-2, name='Nick')\n"
   ]
  },
  {
   "cell_type": "markdown",
   "metadata": {},
   "source": [
    "## Lists\n",
    "\n",
    "Lists represent sequences of data.  They are made with either the square brackets **[]** or the **list()** constructor function.  They can be appended to, just like strings, but they can contain any kind of data--numbers, strings, even other lists.  Their methods mostly revolve around inserting and removing things:"
   ]
  },
  {
   "cell_type": "code",
   "execution_count": 38,
   "metadata": {},
   "outputs": [
    {
     "name": "stdout",
     "output_type": "stream",
     "text": [
      "['append', 'clear', 'copy', 'count', 'extend', 'index', 'insert', 'pop', 'remove', 'reverse', 'sort']\n"
     ]
    }
   ],
   "source": [
    "print([method for method in dir(list) if not '_' in method])"
   ]
  },
  {
   "cell_type": "code",
   "execution_count": 40,
   "metadata": {},
   "outputs": [
    {
     "data": {
      "text/plain": [
       "['This', 'is', 'a', 'list', 'of', 'words']"
      ]
     },
     "execution_count": 40,
     "metadata": {},
     "output_type": "execute_result"
    }
   ],
   "source": [
    "words = ['This', 'is', 'a', 'list', 'of', 'words']\n",
    "words"
   ]
  },
  {
   "cell_type": "code",
   "execution_count": 41,
   "metadata": {},
   "outputs": [
    {
     "data": {
      "text/plain": [
       "6"
      ]
     },
     "execution_count": 41,
     "metadata": {},
     "output_type": "execute_result"
    }
   ],
   "source": [
    "len(words)"
   ]
  },
  {
   "cell_type": "code",
   "execution_count": null,
   "metadata": {},
   "outputs": [],
   "source": []
  },
  {
   "cell_type": "markdown",
   "metadata": {},
   "source": [
    "Make a list of 3 movie titles."
   ]
  },
  {
   "cell_type": "code",
   "execution_count": 45,
   "metadata": {},
   "outputs": [
    {
     "data": {
      "text/plain": [
       "3"
      ]
     },
     "execution_count": 45,
     "metadata": {},
     "output_type": "execute_result"
    }
   ],
   "source": [
    "films = ['Alien', 'Predator', 'Alien vs. Predator']\n",
    "len(films)"
   ]
  },
  {
   "cell_type": "markdown",
   "metadata": {},
   "source": [
    "Change the following sentence into a list.  What happens?"
   ]
  },
  {
   "cell_type": "code",
   "execution_count": 47,
   "metadata": {},
   "outputs": [
    {
     "data": {
      "text/plain": [
       "['H', 'e', 'l', 'l', 'o', ',', ' ', 'W', 'o', 'r', 'l', 'd', '!']"
      ]
     },
     "execution_count": 47,
     "metadata": {},
     "output_type": "execute_result"
    }
   ],
   "source": [
    "sentence = \"Hello, World!\"\n",
    "list(sentence)"
   ]
  },
  {
   "cell_type": "code",
   "execution_count": 49,
   "metadata": {},
   "outputs": [
    {
     "data": {
      "text/plain": [
       "\"['a', 'b', 'c']\""
      ]
     },
     "execution_count": 49,
     "metadata": {},
     "output_type": "execute_result"
    }
   ],
   "source": [
    "chars = ['a', 'b', 'c']\n",
    "str(chars)"
   ]
  },
  {
   "cell_type": "code",
   "execution_count": 52,
   "metadata": {},
   "outputs": [
    {
     "data": {
      "text/plain": [
       "'abc'"
      ]
     },
     "execution_count": 52,
     "metadata": {},
     "output_type": "execute_result"
    }
   ],
   "source": [
    "''.join(chars)"
   ]
  },
  {
   "cell_type": "markdown",
   "metadata": {},
   "source": [
    "You have a list of subjects, and you want to add another one!  How could you do it?"
   ]
  },
  {
   "cell_type": "code",
   "execution_count": 77,
   "metadata": {},
   "outputs": [],
   "source": [
    "subjects = ['NOP234', 'GHS673', 'JGL212']\n",
    "new_subject = 'ASF193'"
   ]
  },
  {
   "cell_type": "code",
   "execution_count": 78,
   "metadata": {},
   "outputs": [],
   "source": [
    "subjects.append(new_subject)"
   ]
  },
  {
   "cell_type": "code",
   "execution_count": 79,
   "metadata": {},
   "outputs": [
    {
     "data": {
      "text/plain": [
       "['NOP234', 'GHS673', 'JGL212', 'ASF193']"
      ]
     },
     "execution_count": 79,
     "metadata": {},
     "output_type": "execute_result"
    }
   ],
   "source": [
    "subjects"
   ]
  },
  {
   "cell_type": "markdown",
   "metadata": {},
   "source": [
    "### Lots at once!\n",
    "\n",
    "Now, a bunch of new subjects appeared!  How do you add them to the main list?"
   ]
  },
  {
   "cell_type": "code",
   "execution_count": 81,
   "metadata": {},
   "outputs": [
    {
     "data": {
      "text/plain": [
       "['NOP234', 'GHS673', 'JGL212', ['ASF193', 'THW994', 'JJZ231']]"
      ]
     },
     "execution_count": 81,
     "metadata": {},
     "output_type": "execute_result"
    }
   ],
   "source": [
    "subjects = ['NOP234', 'GHS673', 'JGL212']\n",
    "new_subjects = ['ASF193', 'THW994', 'JJZ231']\n",
    "subjects.append(new_subjects)\n",
    "subjects"
   ]
  },
  {
   "cell_type": "code",
   "execution_count": 82,
   "metadata": {},
   "outputs": [
    {
     "data": {
      "text/plain": [
       "['NOP234', 'GHS673', 'JGL212', 'ASF193', 'THW994', 'JJZ231']"
      ]
     },
     "execution_count": 82,
     "metadata": {},
     "output_type": "execute_result"
    }
   ],
   "source": [
    "subjects = ['NOP234', 'GHS673', 'JGL212']\n",
    "new_subjects = ['ASF193', 'THW994', 'JJZ231']\n",
    "subjects.extend(new_subjects)\n",
    "subjects"
   ]
  },
  {
   "cell_type": "code",
   "execution_count": 91,
   "metadata": {},
   "outputs": [
    {
     "data": {
      "text/plain": [
       "NoneType"
      ]
     },
     "execution_count": 91,
     "metadata": {},
     "output_type": "execute_result"
    }
   ],
   "source": [
    "subjects = ['NOP234', 'GHS673', 'JGL212']\n",
    "new_subjects = ['ASF193', 'THW994', 'JJZ231']\n",
    "all_subjects = new_subjects.extend(subjects)\n",
    "type(all_subjects)"
   ]
  },
  {
   "cell_type": "code",
   "execution_count": 84,
   "metadata": {},
   "outputs": [
    {
     "data": {
      "text/plain": [
       "['NOP234', 'GHS673', 'JGL212', 'ASF193', 'THW994', 'JJZ231']"
      ]
     },
     "execution_count": 84,
     "metadata": {},
     "output_type": "execute_result"
    }
   ],
   "source": [
    "subjects = ['NOP234', 'GHS673', 'JGL212']\n",
    "new_subjects = ['ASF193', 'THW994', 'JJZ231']\n",
    "all_subjects = subjects + new_subjects\n",
    "all_subjects"
   ]
  },
  {
   "cell_type": "markdown",
   "metadata": {},
   "source": [
    "### Nice and Neat\n",
    "\n",
    "Please put those subjects in alphabetical order.  It looks better that way, doesn't it?"
   ]
  },
  {
   "cell_type": "code",
   "execution_count": 93,
   "metadata": {},
   "outputs": [],
   "source": [
    "subjects = ['NOP234', 'GHS673', 'jGL212', 'ASF193', 'THW994', 'JJZ231']\n",
    "subjects.sort()"
   ]
  },
  {
   "cell_type": "code",
   "execution_count": 94,
   "metadata": {},
   "outputs": [
    {
     "data": {
      "text/plain": [
       "['ASF193', 'GHS673', 'JJZ231', 'NOP234', 'THW994', 'jGL212']"
      ]
     },
     "execution_count": 94,
     "metadata": {},
     "output_type": "execute_result"
    }
   ],
   "source": [
    "subjects"
   ]
  },
  {
   "cell_type": "markdown",
   "metadata": {},
   "source": [
    "### The Bad Subject\n",
    "\n",
    "Oh, no, 'JGL202' was a terrible subject, he intentionally ruined your study.  Well, there's no way you're keeping him.  How do you remove him from the list?"
   ]
  },
  {
   "cell_type": "code",
   "execution_count": 96,
   "metadata": {},
   "outputs": [
    {
     "data": {
      "text/plain": [
       "['NOP234', 'GHS673', 'ASF193', 'THW994', 'JJZ231']"
      ]
     },
     "execution_count": 96,
     "metadata": {},
     "output_type": "execute_result"
    }
   ],
   "source": [
    "subjects = ['NOP234', 'GHS673', 'JGL212', 'ASF193', 'THW994', 'JJZ231']\n",
    "subjects.remove('JGL212')\n",
    "subjects"
   ]
  },
  {
   "cell_type": "markdown",
   "metadata": {},
   "source": [
    "## More Exercises\n",
    "\n",
    "### The Variable Subject\n",
    "\n",
    "You want to label your figure title with the subject code, and the subject code changes depending on which subject is being shown!  How could you stick a subject's name in your title string?"
   ]
  },
  {
   "cell_type": "code",
   "execution_count": 97,
   "metadata": {},
   "outputs": [],
   "source": [
    "subject = 'NOP234'\n",
    "title = \"Mean Values of SUBJECT NAME's data over Time\""
   ]
  },
  {
   "cell_type": "code",
   "execution_count": 98,
   "metadata": {},
   "outputs": [
    {
     "data": {
      "text/plain": [
       "\"Mean Values of NOP234's data over Time\""
      ]
     },
     "execution_count": 98,
     "metadata": {},
     "output_type": "execute_result"
    }
   ],
   "source": [
    "title.replace('SUBJECT NAME', subject)"
   ]
  },
  {
   "cell_type": "markdown",
   "metadata": {},
   "source": [
    "If you had formatted your title string in the following way, though, another string method would be more useful.  Which method would you use for this title:"
   ]
  },
  {
   "cell_type": "code",
   "execution_count": 99,
   "metadata": {},
   "outputs": [],
   "source": [
    "subject1 = 'NOP234'\n",
    "subject2 = 'GHS673'\n",
    "title = \"Performance Comparison between Subjects {} and {}\""
   ]
  },
  {
   "cell_type": "code",
   "execution_count": 100,
   "metadata": {},
   "outputs": [
    {
     "data": {
      "text/plain": [
       "'Performance Comparison between Subjects NOP234 and GHS673'"
      ]
     },
     "execution_count": 100,
     "metadata": {},
     "output_type": "execute_result"
    }
   ],
   "source": [
    "title.format(subject1, subject2)"
   ]
  },
  {
   "cell_type": "markdown",
   "metadata": {},
   "source": [
    "### The Limited Abstract\n",
    "\n",
    "The conference says it only takes abstracts that have a maximum word count of 100 words.  Did our abstract make the cut?  \n",
    "\n",
    "**hint: the len() function is useful here**"
   ]
  },
  {
   "cell_type": "code",
   "execution_count": 103,
   "metadata": {},
   "outputs": [
    {
     "data": {
      "text/plain": [
       "106"
      ]
     },
     "execution_count": 103,
     "metadata": {},
     "output_type": "execute_result"
    }
   ],
   "source": [
    "abstract = \"\"\"We analyze the locomotor behavior of the rat during exploration, and show that digitally collected data (time series of positions) provide a sufftcient basis for establishing that the rat uses several distinct modes of motion (first, second, third, and sometimes fourth gear). The distinction between these modes is obtained by first segmenting the time series into sequences of data points occurring between arrests (as ascertained within the resolution of the data acquisition system). The statistical distribution of the maximal amount of motion occurring within each of these episodes is then analyzed and shown to be multi modal. This enables us to decompose motion into distinct modes.\"\"\"\n",
    "len(abstract.split(' '))"
   ]
  },
  {
   "cell_type": "code",
   "execution_count": 104,
   "metadata": {},
   "outputs": [
    {
     "data": {
      "text/plain": [
       "106"
      ]
     },
     "execution_count": 104,
     "metadata": {},
     "output_type": "execute_result"
    }
   ],
   "source": [
    "abstract.count(' ') + 1"
   ]
  },
  {
   "cell_type": "code",
   "execution_count": 105,
   "metadata": {},
   "outputs": [
    {
     "data": {
      "text/plain": [
       "['CNDJWQUEOJNDADNCZADHGL', 'DANMFEWJQEQEWROJDAOJFADNNAFDAJFDJAWUQEYTDJFADNDF']"
      ]
     },
     "execution_count": 105,
     "metadata": {},
     "output_type": "execute_result"
    }
   ],
   "source": [
    "'CNDJWQUEOJNDADNCZADHGLKDANMFEWJQEQEWROJDAOJFADNNAFDAJFDJAWUQEYTDJFADNDF'.split('K')"
   ]
  },
  {
   "cell_type": "markdown",
   "metadata": {},
   "source": [
    "Oh, wait, now that I look closer, it actually says that it's a maximum of 100 **unique** words--duplicated words don't count.  How many unique words do we have in our abstract?  (What a strange conference...)\n",
    "\n",
    "\n",
    "**Hint**: Try this out with the **set()** class."
   ]
  },
  {
   "cell_type": "code",
   "execution_count": 106,
   "metadata": {},
   "outputs": [
    {
     "data": {
      "text/plain": [
       "{'(as',\n",
       " '(first,',\n",
       " '(time',\n",
       " 'The',\n",
       " 'This',\n",
       " 'We',\n",
       " 'a',\n",
       " 'acquisition',\n",
       " 'amount',\n",
       " 'analyze',\n",
       " 'analyzed',\n",
       " 'and',\n",
       " 'arrests',\n",
       " 'ascertained',\n",
       " 'basis',\n",
       " 'be',\n",
       " 'behavior',\n",
       " 'between',\n",
       " 'by',\n",
       " 'collected',\n",
       " 'data',\n",
       " 'decompose',\n",
       " 'digitally',\n",
       " 'distinct',\n",
       " 'distinction',\n",
       " 'distribution',\n",
       " 'during',\n",
       " 'each',\n",
       " 'enables',\n",
       " 'episodes',\n",
       " 'establishing',\n",
       " 'exploration,',\n",
       " 'first',\n",
       " 'for',\n",
       " 'fourth',\n",
       " 'gear).',\n",
       " 'into',\n",
       " 'is',\n",
       " 'locomotor',\n",
       " 'maximal',\n",
       " 'modal.',\n",
       " 'modes',\n",
       " 'modes.',\n",
       " 'motion',\n",
       " 'multi',\n",
       " 'obtained',\n",
       " 'occurring',\n",
       " 'of',\n",
       " 'points',\n",
       " 'positions)',\n",
       " 'provide',\n",
       " 'rat',\n",
       " 'resolution',\n",
       " 'second,',\n",
       " 'segmenting',\n",
       " 'sequences',\n",
       " 'series',\n",
       " 'several',\n",
       " 'show',\n",
       " 'shown',\n",
       " 'sometimes',\n",
       " 'statistical',\n",
       " 'sufftcient',\n",
       " 'system).',\n",
       " 'that',\n",
       " 'the',\n",
       " 'then',\n",
       " 'these',\n",
       " 'third,',\n",
       " 'time',\n",
       " 'to',\n",
       " 'us',\n",
       " 'uses',\n",
       " 'within'}"
      ]
     },
     "execution_count": 106,
     "metadata": {},
     "output_type": "execute_result"
    }
   ],
   "source": [
    "set(abstract.split(' '))"
   ]
  },
  {
   "cell_type": "code",
   "execution_count": null,
   "metadata": {},
   "outputs": [],
   "source": []
  }
 ],
 "metadata": {
  "kernelspec": {
   "display_name": "Python 3",
   "language": "python",
   "name": "python3"
  },
  "language_info": {
   "codemirror_mode": {
    "name": "ipython",
    "version": 3
   },
   "file_extension": ".py",
   "mimetype": "text/x-python",
   "name": "python",
   "nbconvert_exporter": "python",
   "pygments_lexer": "ipython3",
   "version": "3.6.5"
  }
 },
 "nbformat": 4,
 "nbformat_minor": 2
}
